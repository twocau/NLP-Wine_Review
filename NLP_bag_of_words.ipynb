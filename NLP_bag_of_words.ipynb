{
 "cells": [
  {
   "cell_type": "markdown",
   "metadata": {},
   "source": [
    "### Meaning of each column:\n",
    "\n",
    "**1) country:** The country that the wine is from.<br>\n",
    "**2) description:** A few sentences from a sommelier describing the wine's taste, smell, look, feel, etc.<br>\n",
    "**3) designation:** The vineyard within the winery where the grapes that made the wine are from.<br>\n",
    "**4) points:** The number of points WineEnthusiast rated the wine on a scale of 1-100 (though they say they only post reviews for wines that score >=80)<br>\n",
    "**5) price:** The cost for a bottle of the wine. <br>\n",
    "**6) province:** The province or state that the wine is from.<br>\n",
    "**7) region_1:** The wine growing area in a province or state (ie Napa).<br>\n",
    "**8) region_2:** Sometimes there are more specific regions specified within a wine growing area (ie Rutherford inside the Napa Valley), but this value can sometimes be blank.<br>\n",
    "**9) variety:** The type of grapes used to make the wine (ie Pinot Noir). <br>\n",
    "**10) winery:** The winery that made the wine. <br>\n",
    "\n",
    "# Questions:\n",
    "1) What are the specialties of the wine from different countries?<br>\n",
    "2) How does the wine taste with different type of grapes (variety)?<br>\n",
    "3) What makes some wine more expensive or get higher score/point than the others?<br>\n",
    "4) Is there any correlation between the taste of the wine and its price/score?"
   ]
  },
  {
   "cell_type": "code",
   "execution_count": 1,
   "metadata": {
    "collapsed": true
   },
   "outputs": [],
   "source": [
    "import utils\n",
    "import pandas as pd\n",
    "import numpy as np\n",
    "import matplotlib.pyplot as plt\n",
    "from sklearn.feature_extraction.text import CountVectorizer\n",
    "from sklearn.model_selection import train_test_split\n",
    "%matplotlib inline"
   ]
  },
  {
   "cell_type": "code",
   "execution_count": 5,
   "metadata": {
    "collapsed": true
   },
   "outputs": [],
   "source": [
    "### Start from raw data:\n",
    "# raw_data = utils.loadRawData()\n",
    "# data = utils.cleanAndTransform(raw_data)\n",
    "# utils.saveData(data)\n",
    "\n",
    "### Start from processed data:\n",
    "data = utils.loadCleanData()"
   ]
  },
  {
   "cell_type": "code",
   "execution_count": 7,
   "metadata": {},
   "outputs": [],
   "source": [
    "# I'm just gonna work with these columns:\n",
    "M = data[['country', 'description', 'points', 'price', 'variety', 'clean_des']].as_matrix()\n",
    "\n",
    "# Train-validation-test split:\n",
    "X = M[:, -1]\n",
    "Y = M[:, :-2]\n",
    "X_train, X_test, Y_train, Y_test = train_test_split(X, Y, test_size=0.18, random_state=42)\n",
    "X_train, X_val, Y_train, Y_val = train_test_split(X_train, Y_train, test_size=0.17, random_state=42)"
   ]
  },
  {
   "cell_type": "code",
   "execution_count": 8,
   "metadata": {
    "collapsed": true
   },
   "outputs": [],
   "source": [
    "# Transform to document-term matrix:\n",
    "# (Here I assume that the order of the words is not important. I want to use bag-of-word model.)\n",
    "def vectorize(words):\n",
    "    vec = CountVectorizer()\n",
    "    bow = vec.fit_transform(words)\n",
    "    return pd.DataFrame(bow.toarray(), columns=vec.get_feature_names())"
   ]
  },
  {
   "cell_type": "code",
   "execution_count": 9,
   "metadata": {},
   "outputs": [],
   "source": [
    "# Note that these matrix will be different. \n",
    "# However, if we train the model properly, it should be robust to the variation between data points.\n",
    "Xv_train = vectorize(X_train)\n",
    "Xv_val = vectorize(X_val)\n",
    "Xv_test = vectorize(X_test)"
   ]
  },
  {
   "cell_type": "markdown",
   "metadata": {},
   "source": [
    "#### Top 15 words in the training data:"
   ]
  },
  {
   "cell_type": "code",
   "execution_count": 11,
   "metadata": {
    "scrolled": true
   },
   "outputs": [
    {
     "data": {
      "text/plain": [
       "wine       53466\n",
       "flavors    50748\n",
       "fruit      36760\n",
       "finish     24564\n",
       "aromas     22234\n",
       "cherry     20996\n",
       "acidity    19341\n",
       "tannins    19194\n",
       "palate     19120\n",
       "black      16419\n",
       "ripe       16105\n",
       "dry        15972\n",
       "drink      15271\n",
       "sweet      14190\n",
       "oak        13959\n",
       "dtype: int64"
      ]
     },
     "execution_count": 11,
     "metadata": {},
     "output_type": "execute_result"
    }
   ],
   "source": [
    "Xv_train.sum().sort_values(ascending=False).head(15)"
   ]
  },
  {
   "cell_type": "markdown",
   "metadata": {},
   "source": [
    "#### Top 15 words in the validation data:\n",
    "(We expect this to be fairly similar to the top-15 from the trianing data.)"
   ]
  },
  {
   "cell_type": "code",
   "execution_count": 10,
   "metadata": {},
   "outputs": [
    {
     "data": {
      "text/plain": [
       "wine       11038\n",
       "flavors    10279\n",
       "fruit       7725\n",
       "finish      5027\n",
       "aromas      4578\n",
       "cherry      4160\n",
       "palate      4008\n",
       "acidity     3999\n",
       "tannins     3944\n",
       "black       3380\n",
       "dry         3245\n",
       "ripe        3227\n",
       "drink       3126\n",
       "oak         2869\n",
       "sweet       2820\n",
       "dtype: int64"
      ]
     },
     "execution_count": 10,
     "metadata": {},
     "output_type": "execute_result"
    }
   ],
   "source": [
    "Xv_val.sum().sort_values(ascending=False).head(15)"
   ]
  },
  {
   "cell_type": "code",
   "execution_count": null,
   "metadata": {
    "collapsed": true
   },
   "outputs": [],
   "source": []
  },
  {
   "cell_type": "code",
   "execution_count": null,
   "metadata": {
    "collapsed": true
   },
   "outputs": [],
   "source": []
  },
  {
   "cell_type": "code",
   "execution_count": null,
   "metadata": {
    "collapsed": true
   },
   "outputs": [],
   "source": []
  },
  {
   "cell_type": "code",
   "execution_count": null,
   "metadata": {
    "collapsed": true
   },
   "outputs": [],
   "source": []
  }
 ],
 "metadata": {
  "kernelspec": {
   "display_name": "Python 3",
   "language": "python",
   "name": "python3"
  },
  "language_info": {
   "codemirror_mode": {
    "name": "ipython",
    "version": 3
   },
   "file_extension": ".py",
   "mimetype": "text/x-python",
   "name": "python",
   "nbconvert_exporter": "python",
   "pygments_lexer": "ipython3",
   "version": "3.6.6"
  }
 },
 "nbformat": 4,
 "nbformat_minor": 2
}
