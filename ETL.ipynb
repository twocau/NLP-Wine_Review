{
 "cells": [
  {
   "cell_type": "code",
   "execution_count": 1,
   "metadata": {
    "collapsed": true
   },
   "outputs": [],
   "source": [
    "import pandas as pd\n",
    "import numpy as np\n",
    "import matplotlib.pyplot as plt\n",
    "from nltk.corpus import stopwords\n",
    "import utils\n",
    "%matplotlib inline"
   ]
  },
  {
   "cell_type": "markdown",
   "metadata": {},
   "source": [
    "### Load Data:"
   ]
  },
  {
   "cell_type": "code",
   "execution_count": 2,
   "metadata": {},
   "outputs": [
    {
     "name": "stdout",
     "output_type": "stream",
     "text": [
      "['Unnamed: 0' 'country' 'description' 'designation' 'points' 'price'\n",
      " 'province' 'region_1' 'region_2' 'variety' 'winery']\n"
     ]
    }
   ],
   "source": [
    "data1 = pd.read_csv('data\\winemag-data_first150k.csv')\n",
    "print(data1.columns.values)"
   ]
  },
  {
   "cell_type": "code",
   "execution_count": 3,
   "metadata": {
    "collapsed": true
   },
   "outputs": [],
   "source": [
    "data = data1.set_index('Unnamed: 0', drop=True)"
   ]
  },
  {
   "cell_type": "code",
   "execution_count": 4,
   "metadata": {
    "scrolled": false
   },
   "outputs": [
    {
     "data": {
      "text/html": [
       "<div>\n",
       "<style>\n",
       "    .dataframe thead tr:only-child th {\n",
       "        text-align: right;\n",
       "    }\n",
       "\n",
       "    .dataframe thead th {\n",
       "        text-align: left;\n",
       "    }\n",
       "\n",
       "    .dataframe tbody tr th {\n",
       "        vertical-align: top;\n",
       "    }\n",
       "</style>\n",
       "<table border=\"1\" class=\"dataframe\">\n",
       "  <thead>\n",
       "    <tr style=\"text-align: right;\">\n",
       "      <th></th>\n",
       "      <th>country</th>\n",
       "      <th>description</th>\n",
       "      <th>designation</th>\n",
       "      <th>points</th>\n",
       "      <th>price</th>\n",
       "      <th>province</th>\n",
       "      <th>region_1</th>\n",
       "      <th>region_2</th>\n",
       "      <th>variety</th>\n",
       "      <th>winery</th>\n",
       "    </tr>\n",
       "    <tr>\n",
       "      <th>Unnamed: 0</th>\n",
       "      <th></th>\n",
       "      <th></th>\n",
       "      <th></th>\n",
       "      <th></th>\n",
       "      <th></th>\n",
       "      <th></th>\n",
       "      <th></th>\n",
       "      <th></th>\n",
       "      <th></th>\n",
       "      <th></th>\n",
       "    </tr>\n",
       "  </thead>\n",
       "  <tbody>\n",
       "    <tr>\n",
       "      <th>0</th>\n",
       "      <td>US</td>\n",
       "      <td>This tremendous 100% varietal wine hails from ...</td>\n",
       "      <td>Martha's Vineyard</td>\n",
       "      <td>96</td>\n",
       "      <td>235.0</td>\n",
       "      <td>California</td>\n",
       "      <td>Napa Valley</td>\n",
       "      <td>Napa</td>\n",
       "      <td>Cabernet Sauvignon</td>\n",
       "      <td>Heitz</td>\n",
       "    </tr>\n",
       "    <tr>\n",
       "      <th>1</th>\n",
       "      <td>Spain</td>\n",
       "      <td>Ripe aromas of fig, blackberry and cassis are ...</td>\n",
       "      <td>Carodorum Selección Especial Reserva</td>\n",
       "      <td>96</td>\n",
       "      <td>110.0</td>\n",
       "      <td>Northern Spain</td>\n",
       "      <td>Toro</td>\n",
       "      <td>NaN</td>\n",
       "      <td>Tinta de Toro</td>\n",
       "      <td>Bodega Carmen Rodríguez</td>\n",
       "    </tr>\n",
       "    <tr>\n",
       "      <th>2</th>\n",
       "      <td>US</td>\n",
       "      <td>Mac Watson honors the memory of a wine once ma...</td>\n",
       "      <td>Special Selected Late Harvest</td>\n",
       "      <td>96</td>\n",
       "      <td>90.0</td>\n",
       "      <td>California</td>\n",
       "      <td>Knights Valley</td>\n",
       "      <td>Sonoma</td>\n",
       "      <td>Sauvignon Blanc</td>\n",
       "      <td>Macauley</td>\n",
       "    </tr>\n",
       "    <tr>\n",
       "      <th>3</th>\n",
       "      <td>US</td>\n",
       "      <td>This spent 20 months in 30% new French oak, an...</td>\n",
       "      <td>Reserve</td>\n",
       "      <td>96</td>\n",
       "      <td>65.0</td>\n",
       "      <td>Oregon</td>\n",
       "      <td>Willamette Valley</td>\n",
       "      <td>Willamette Valley</td>\n",
       "      <td>Pinot Noir</td>\n",
       "      <td>Ponzi</td>\n",
       "    </tr>\n",
       "    <tr>\n",
       "      <th>4</th>\n",
       "      <td>France</td>\n",
       "      <td>This is the top wine from La Bégude, named aft...</td>\n",
       "      <td>La Brûlade</td>\n",
       "      <td>95</td>\n",
       "      <td>66.0</td>\n",
       "      <td>Provence</td>\n",
       "      <td>Bandol</td>\n",
       "      <td>NaN</td>\n",
       "      <td>Provence red blend</td>\n",
       "      <td>Domaine de la Bégude</td>\n",
       "    </tr>\n",
       "  </tbody>\n",
       "</table>\n",
       "</div>"
      ],
      "text/plain": [
       "           country                                        description  \\\n",
       "Unnamed: 0                                                              \n",
       "0               US  This tremendous 100% varietal wine hails from ...   \n",
       "1            Spain  Ripe aromas of fig, blackberry and cassis are ...   \n",
       "2               US  Mac Watson honors the memory of a wine once ma...   \n",
       "3               US  This spent 20 months in 30% new French oak, an...   \n",
       "4           France  This is the top wine from La Bégude, named aft...   \n",
       "\n",
       "                                     designation  points  price  \\\n",
       "Unnamed: 0                                                        \n",
       "0                              Martha's Vineyard      96  235.0   \n",
       "1           Carodorum Selección Especial Reserva      96  110.0   \n",
       "2                  Special Selected Late Harvest      96   90.0   \n",
       "3                                        Reserve      96   65.0   \n",
       "4                                     La Brûlade      95   66.0   \n",
       "\n",
       "                  province           region_1           region_2  \\\n",
       "Unnamed: 0                                                         \n",
       "0               California        Napa Valley               Napa   \n",
       "1           Northern Spain               Toro                NaN   \n",
       "2               California     Knights Valley             Sonoma   \n",
       "3                   Oregon  Willamette Valley  Willamette Valley   \n",
       "4                 Provence             Bandol                NaN   \n",
       "\n",
       "                       variety                   winery  \n",
       "Unnamed: 0                                               \n",
       "0           Cabernet Sauvignon                    Heitz  \n",
       "1                Tinta de Toro  Bodega Carmen Rodríguez  \n",
       "2              Sauvignon Blanc                 Macauley  \n",
       "3                   Pinot Noir                    Ponzi  \n",
       "4           Provence red blend     Domaine de la Bégude  "
      ]
     },
     "execution_count": 4,
     "metadata": {},
     "output_type": "execute_result"
    }
   ],
   "source": [
    "data.head(5)"
   ]
  },
  {
   "cell_type": "markdown",
   "metadata": {},
   "source": [
    "# Data Overview\n",
    "### Meaning of each column:\n",
    "\n",
    "**1) country:** The country that the wine is from.<br>\n",
    "**2) description:** A few sentences from a sommelier describing the wine's taste, smell, look, feel, etc.<br>\n",
    "**3) designation:** The vineyard within the winery where the grapes that made the wine are from.<br>\n",
    "**4) points:** The number of points WineEnthusiast rated the wine on a scale of 1-100 (though they say they only post reviews for wines that score >=80)<br>\n",
    "**5) price:** The cost for a bottle of the wine. <br>\n",
    "**6) province:** The province or state that the wine is from.<br>\n",
    "**7) region_1:** The wine growing area in a province or state (ie Napa).<br>\n",
    "**8) region_2:** Sometimes there are more specific regions specified within a wine growing area (ie Rutherford inside the Napa Valley), but this value can sometimes be blank.<br>\n",
    "**9) variety:** The type of grapes used to make the wine (ie Pinot Noir). <br>\n",
    "**10) winery:** The winery that made the wine. <br>"
   ]
  },
  {
   "cell_type": "markdown",
   "metadata": {},
   "source": [
    "**Missing Values:**"
   ]
  },
  {
   "cell_type": "code",
   "execution_count": 5,
   "metadata": {},
   "outputs": [
    {
     "name": "stdout",
     "output_type": "stream",
     "text": [
      "NaN counts: (total rows=150930)\n",
      "country: 5\n",
      "description: 0\n",
      "designation: 45735\n",
      "points: 0\n",
      "price: 13695\n",
      "province: 5\n",
      "region_1: 25060\n",
      "region_2: 89977\n",
      "variety: 0\n",
      "winery: 0\n"
     ]
    }
   ],
   "source": [
    "N = data.shape[0]\n",
    "print('NaN counts: (total rows={})'.format(N))\n",
    "for c in data.columns.values:\n",
    "    print('{}: {}'.format(c, sum(data[c].isnull())))"
   ]
  },
  {
   "cell_type": "code",
   "execution_count": 6,
   "metadata": {},
   "outputs": [
    {
     "data": {
      "text/plain": [
       "0"
      ]
     },
     "execution_count": 6,
     "metadata": {},
     "output_type": "execute_result"
    }
   ],
   "source": [
    "i1 = data.country.index[data.country.isnull()==True]\n",
    "i2 = data.province.index[data.province.isnull()==True]\n",
    "np.array(i1!=i2).astype(int).sum()"
   ]
  },
  {
   "cell_type": "markdown",
   "metadata": {},
   "source": [
    "The rows with missing country also don't show province. Since only very few data points have these two missing values, we can probably just discard them if they are not very useful."
   ]
  },
  {
   "cell_type": "markdown",
   "metadata": {},
   "source": [
    "#### Value Types:"
   ]
  },
  {
   "cell_type": "code",
   "execution_count": 7,
   "metadata": {},
   "outputs": [
    {
     "name": "stdout",
     "output_type": "stream",
     "text": [
      "country: object\n",
      "description: object\n",
      "designation: object\n",
      "points: int64\n",
      "price: float64\n",
      "province: object\n",
      "region_1: object\n",
      "region_2: object\n",
      "variety: object\n",
      "winery: object\n"
     ]
    }
   ],
   "source": [
    "for c in data.columns.values:\n",
    "    print('{}: {}'.format(c, data[c].dtype))"
   ]
  },
  {
   "cell_type": "markdown",
   "metadata": {},
   "source": [
    "#### Unique Value Counts:"
   ]
  },
  {
   "cell_type": "code",
   "execution_count": 8,
   "metadata": {},
   "outputs": [
    {
     "name": "stdout",
     "output_type": "stream",
     "text": [
      "(Total rows= 150930)\n",
      "country: 49\n",
      "description: 97821\n",
      "designation: 30622\n",
      "points: 21\n",
      "price: 358\n",
      "province: 456\n",
      "region_1: 1237\n",
      "region_2: 19\n",
      "variety: 632\n",
      "winery: 14810\n"
     ]
    }
   ],
   "source": [
    "print('(Total rows= {})'.format(N))\n",
    "for c in data.columns.values:\n",
    "    print('{}: {}'.format(c, len(data[c].unique())))"
   ]
  },
  {
   "cell_type": "markdown",
   "metadata": {},
   "source": [
    "#### 1) Country"
   ]
  },
  {
   "cell_type": "code",
   "execution_count": 9,
   "metadata": {
    "collapsed": true
   },
   "outputs": [],
   "source": [
    "N = data.shape[0]\n",
    "country_counts = data.country.value_counts()/N * 100"
   ]
  },
  {
   "cell_type": "code",
   "execution_count": 10,
   "metadata": {},
   "outputs": [
    {
     "data": {
      "image/png": "[encoded data removed]",
      "text/plain": [
       "<matplotlib.figure.Figure at 0x19d9df98>"
      ]
     },
     "metadata": {},
     "output_type": "display_data"
    }
   ],
   "source": [
    "plt.figure(figsize=[8, 4])\n",
    "country_counts.plot.bar()\n",
    "plt.ylabel('percentage')\n",
    "plt.show()"
   ]
  },
  {
   "cell_type": "markdown",
   "metadata": {},
   "source": [
    "Since these data include reviews from many different countries, I want to re-group the data into simply five groups: US, Italy, France, and Other, where the last group gathers all the countries contribute less than 10%."
   ]
  },
  {
   "cell_type": "markdown",
   "metadata": {},
   "source": [
    "#### 2) Points & Prices"
   ]
  },
  {
   "cell_type": "code",
   "execution_count": 11,
   "metadata": {},
   "outputs": [
    {
     "data": {
      "image/png": "[encoded data removed]",
      "text/plain": [
       "<matplotlib.figure.Figure at 0x10fc9f60>"
      ]
     },
     "metadata": {},
     "output_type": "display_data"
    }
   ],
   "source": [
    "plt.figure(figsize=[11, 4])\n",
    "plt.subplot(121)\n",
    "data.points.plot.hist(bins=20)\n",
    "plt.xlabel('points')\n",
    "plt.axvline(np.mean(data.points), c='k', linestyle='--')\n",
    "plt.subplot(122)\n",
    "data.price.plot.hist(bins=400, logx=True)\n",
    "plt.xlabel('price')\n",
    "plt.axvline(np.mean(data.price), c='k', linestyle='--')\n",
    "plt.show()"
   ]
  },
  {
   "cell_type": "markdown",
   "metadata": {},
   "source": [
    "#### 3) Descriptions:"
   ]
  },
  {
   "cell_type": "code",
   "execution_count": 12,
   "metadata": {
    "collapsed": true
   },
   "outputs": [],
   "source": [
    "len_description = np.array([len(data.description[i]) for i in range(N)])"
   ]
  },
  {
   "cell_type": "code",
   "execution_count": 13,
   "metadata": {},
   "outputs": [
    {
     "name": "stdout",
     "output_type": "stream",
     "text": [
      "Min= 17; Max= 829\n"
     ]
    },
    {
     "data": {
      "image/png": "[encoded data removed]",
      "text/plain": [
       "<matplotlib.figure.Figure at 0x135c3e10>"
      ]
     },
     "metadata": {},
     "output_type": "display_data"
    }
   ],
   "source": [
    "print('Min= {}; Max= {}'.format(min(len_description), max(len_description)))\n",
    "plt.figure(figsize=[5, 3.6])\n",
    "plt.hist(len_description, bins=30)\n",
    "plt.axvline(np.mean(len_description), c='k', linestyle='--')\n",
    "plt.xlabel('description length')\n",
    "plt.show()"
   ]
  },
  {
   "cell_type": "markdown",
   "metadata": {},
   "source": [
    "**Shortest and Longest descriptions:**"
   ]
  },
  {
   "cell_type": "code",
   "execution_count": 14,
   "metadata": {},
   "outputs": [
    {
     "name": "stdout",
     "output_type": "stream",
     "text": [
      "Shortest description:\n",
      "Unnamed: 0\n",
      "116396    Sweet and fruity.\n",
      "128156    Sweet and fruity.\n",
      "Name: description, dtype: object\n"
     ]
    }
   ],
   "source": [
    "print('Shortest description:')\n",
    "print(data.description[len_description==17])"
   ]
  },
  {
   "cell_type": "code",
   "execution_count": 15,
   "metadata": {},
   "outputs": [
    {
     "name": "stdout",
     "output_type": "stream",
     "text": [
      "Longest description:\n",
      "Unnamed: 0\n",
      "22615    Dark, dusty, strongly scented with barrel toas...\n",
      "Name: description, dtype: object\n"
     ]
    }
   ],
   "source": [
    "print('Longest description:')\n",
    "print(data.description[len_description==829])"
   ]
  },
  {
   "cell_type": "markdown",
   "metadata": {},
   "source": [
    "**Average description length for wine from different countries:**"
   ]
  },
  {
   "cell_type": "code",
   "execution_count": 16,
   "metadata": {},
   "outputs": [
    {
     "name": "stdout",
     "output_type": "stream",
     "text": [
      "Description average length:\n",
      "US:\t241.95690497940606\n",
      "Spain:\t266.37106918238993\n",
      "France:\t214.96966537112522\n",
      "Italy:\t243.06670074111935\n",
      "New Zealand:\t238.4855421686747\n",
      "Bulgaria:\t229.1038961038961\n",
      "Argentina:\t259.1768779968034\n",
      "Australia:\t259.64978817833367\n",
      "Portugal:\t202.85231116121759\n",
      "Israel:\t264.8333333333333\n",
      "South Africa:\t260.21523472099204\n",
      "Greece:\t233.34728506787332\n",
      "Chile:\t264.3270288858322\n",
      "Morocco:\t262.9166666666667\n",
      "Romania:\t237.82014388489208\n",
      "Germany:\t250.65742251223492\n",
      "Canada:\t250.17857142857142\n",
      "Moldova:\t215.30985915492957\n",
      "Hungary:\t266.61038961038963\n",
      "Austria:\t218.72881910369642\n",
      "Croatia:\t244.37078651685394\n",
      "Slovenia:\t234.0\n",
      "nan:\tnan\n",
      "India:\t256.375\n",
      "Turkey:\t276.5\n",
      "Macedonia:\t233.375\n",
      "Lebanon:\t283.35135135135135\n",
      "Serbia:\t204.28571428571428\n",
      "Uruguay:\t249.40217391304347\n",
      "Switzerland:\t213.5\n",
      "Albania:\t221.0\n",
      "Bosnia and Herzegovina:\t204.25\n",
      "Brazil:\t203.4\n",
      "Cyprus:\t255.51612903225808\n",
      "Lithuania:\t255.5\n",
      "Japan:\t345.0\n",
      "China:\t208.0\n",
      "South Korea:\t308.0\n",
      "Ukraine:\t258.8\n",
      "England:\t348.0\n",
      "Mexico:\t241.63492063492063\n",
      "Georgia:\t280.2093023255814\n",
      "Montenegro:\t232.0\n",
      "Luxembourg:\t195.0\n",
      "Slovakia:\t257.0\n",
      "Czech Republic:\t245.16666666666666\n",
      "Egypt:\t185.66666666666666\n",
      "Tunisia:\t284.5\n",
      "US-France:\t312.0\n"
     ]
    }
   ],
   "source": [
    "print('Description average length:')\n",
    "for c in data.country.unique():\n",
    "    print('{}:\\t{}'.format(c, data.description[data['country']==c].apply(len).mean()))"
   ]
  },
  {
   "cell_type": "markdown",
   "metadata": {},
   "source": [
    "# Clean & Transform Data:\n",
    "1) Delete data with missing \"country\".<br>\n",
    "2) Re-group \"country\" into four categories.<br>\n",
    "3) Rescale \"point\" to 0~20.<br>\n",
    "4) Clean \"description\""
   ]
  },
  {
   "cell_type": "code",
   "execution_count": 17,
   "metadata": {
    "collapsed": true
   },
   "outputs": [],
   "source": [
    "# Delete data with missing \"country\".\n",
    "to_drop = data.country.index[data.country.isnull()==True]\n",
    "data = data.drop(to_drop)\n",
    "# Reset index\n",
    "data = data.reset_index()"
   ]
  },
  {
   "cell_type": "code",
   "execution_count": 18,
   "metadata": {
    "collapsed": true
   },
   "outputs": [],
   "source": [
    "# Re-group \"country\" into four categories.\n",
    "data.country = data.country.apply(lambda c: c if c in ['US', 'Italy', 'France'] else 'Other')"
   ]
  },
  {
   "cell_type": "code",
   "execution_count": 19,
   "metadata": {},
   "outputs": [
    {
     "name": "stdout",
     "output_type": "stream",
     "text": [
      "Min=0; Max=20\n"
     ]
    }
   ],
   "source": [
    "# Rescale \"point\":\n",
    "data.points = data.points.apply(lambda x: x-80)\n",
    "print('Min={}; Max={}'.format(min(data.points), max(data.points)))"
   ]
  },
  {
   "cell_type": "markdown",
   "metadata": {},
   "source": [
    "### Text cleaning:\n",
    "i) Use lowercase letters<br>\n",
    "ii) Remove punctuations<br>\n",
    "iii) Remove numbers<br>\n",
    "iv) Tokenization (for bag-of-words model) <br>\n",
    "v) Remove stop words (ie the, a, and, for...)<br>\n",
    "vi) Transform into document-term matrix???"
   ]
  },
  {
   "cell_type": "code",
   "execution_count": 21,
   "metadata": {
    "collapsed": true
   },
   "outputs": [],
   "source": [
    "# Copy description to clean_description. (We will leave description unchanged.)\n",
    "data['clean_des']= data.description"
   ]
  },
  {
   "cell_type": "code",
   "execution_count": 22,
   "metadata": {
    "collapsed": true
   },
   "outputs": [],
   "source": [
    "# Use lowercase letters\n",
    "data.clean_des = data.clean_des.str.lower()"
   ]
  },
  {
   "cell_type": "code",
   "execution_count": 24,
   "metadata": {
    "collapsed": true
   },
   "outputs": [],
   "source": [
    "# Remove punctuations (I actually replace punctuations with space)\n",
    "data.clean_des = data.clean_des.str.replace('[^\\w\\s]',' ')"
   ]
  },
  {
   "cell_type": "code",
   "execution_count": 26,
   "metadata": {
    "collapsed": true
   },
   "outputs": [],
   "source": [
    "# Remove numbers\n",
    "data.clean_des = data.clean_des.str.replace('\\d+', '')"
   ]
  },
  {
   "cell_type": "code",
   "execution_count": 32,
   "metadata": {
    "collapsed": true
   },
   "outputs": [],
   "source": [
    "# Tokenization:\n",
    "data.clean_des = data.clean_des.str.split()"
   ]
  },
  {
   "cell_type": "code",
   "execution_count": 40,
   "metadata": {
    "collapsed": true
   },
   "outputs": [],
   "source": [
    "# Remove stop words\n",
    "def filterStopWords(words):\n",
    "    return [w for w in words if not w in stopwords.words('english')]\n",
    "\n",
    "data.clean_des = data.clean_des.apply(lambda x: filterStopWords(x))"
   ]
  },
  {
   "cell_type": "markdown",
   "metadata": {},
   "source": [
    "#### Store cleaned data for later use:"
   ]
  },
  {
   "cell_type": "code",
   "execution_count": 44,
   "metadata": {
    "collapsed": true
   },
   "outputs": [],
   "source": [
    "to_save = data.copy()\n",
    "to_save.clean_des = to_save.clean_des.str.join(' ')"
   ]
  },
  {
   "cell_type": "code",
   "execution_count": 54,
   "metadata": {
    "collapsed": true
   },
   "outputs": [],
   "source": [
    "to_save.to_csv('data\\clean_v1.csv', encoding='utf-8', index=False)"
   ]
  },
  {
   "cell_type": "markdown",
   "metadata": {},
   "source": [
    "#### Load processed data:"
   ]
  },
  {
   "cell_type": "code",
   "execution_count": 2,
   "metadata": {
    "collapsed": true
   },
   "outputs": [],
   "source": [
    "data = utils.loadCleanData()"
   ]
  },
  {
   "cell_type": "markdown",
   "metadata": {},
   "source": [
    "### Quick look into some correlation between columns:\n",
    "#### Price vs Points:"
   ]
  },
  {
   "cell_type": "code",
   "execution_count": 3,
   "metadata": {},
   "outputs": [
    {
     "data": {
      "text/plain": [
       "<matplotlib.figure.Figure at 0x28dc8a58>"
      ]
     },
     "metadata": {},
     "output_type": "display_data"
    },
    {
     "data": {
      "image/png": "[encoded data removed]",
      "text/plain": [
       "<matplotlib.figure.Figure at 0x28dc8c18>"
      ]
     },
     "metadata": {},
     "output_type": "display_data"
    }
   ],
   "source": [
    "plt.figure()\n",
    "data.plot.scatter(x='points', y='price')\n",
    "plt.show()"
   ]
  },
  {
   "cell_type": "markdown",
   "metadata": {},
   "source": [
    "#### Country vs Points:"
   ]
  },
  {
   "cell_type": "code",
   "execution_count": 4,
   "metadata": {},
   "outputs": [
    {
     "data": {
      "image/png": "[encoded data removed]",
      "text/plain": [
       "<matplotlib.figure.Figure at 0x18c6dcc0>"
      ]
     },
     "metadata": {},
     "output_type": "display_data"
    }
   ],
   "source": [
    "plt.figure()\n",
    "data.points[data.country=='US'].hist(bins=21, alpha=0.7, label='US')\n",
    "data.points[data.country=='Other'].hist(bins=21, alpha=0.55, label='Other')\n",
    "data.points[data.country=='Italy'].hist(bins=21, alpha=0.4, label='Italy')\n",
    "data.points[data.country=='France'].hist(bins=21, alpha=0.3, label='France')\n",
    "plt.xlabel('points')\n",
    "plt.legend()\n",
    "plt.show()"
   ]
  },
  {
   "cell_type": "markdown",
   "metadata": {},
   "source": [
    "#### Country vs Price:"
   ]
  },
  {
   "cell_type": "code",
   "execution_count": 5,
   "metadata": {},
   "outputs": [
    {
     "data": {
      "image/png": "[encoded data removed]",
      "text/plain": [
       "<matplotlib.figure.Figure at 0x19247748>"
      ]
     },
     "metadata": {},
     "output_type": "display_data"
    }
   ],
   "source": [
    "plt.figure()\n",
    "data['price'][data.country=='US'].plot(kind='hist', bins=300, alpha=0.7, label='US', logx=True)\n",
    "data['price'][data.country=='Other'].plot(kind='hist', bins=300, alpha=0.55, label='Other', logx=True)\n",
    "data['price'][data.country=='Italy'].plot(kind='hist', bins=300, alpha=0.4, label='Italy', logx=True)\n",
    "data['price'][data.country=='France'].plot(kind='hist', bins=300, alpha=0.3, label='France', logx=True)\n",
    "plt.xlabel('price')\n",
    "plt.legend()\n",
    "plt.show()"
   ]
  },
  {
   "cell_type": "markdown",
   "metadata": {},
   "source": [
    "Overall, there is a weak correlation between price and points, but not too big (wine with higher price doesn't gaurantee a higher score. And the price and points of wine from different countries also distribute quite similarly. So the remaining work is to really process the description of each wine. Here are the questions that I want to find out.\n",
    "\n",
    "# Questions:\n",
    "**1) What are the specialties of the wine from different countries?<br>**\n",
    "**2) How does the wine taste with different type of grapes (variety)?<br>**\n",
    "**3) What makes some wine more expensive or get higher score/point than the others?<br>**\n",
    "**4) Is there any correlation between the taste of the wine and its price/score?**"
   ]
  },
  {
   "cell_type": "code",
   "execution_count": null,
   "metadata": {
    "collapsed": true
   },
   "outputs": [],
   "source": []
  }
 ],
 "metadata": {
  "kernelspec": {
   "display_name": "Python 3",
   "language": "python",
   "name": "python3"
  },
  "language_info": {
   "codemirror_mode": {
    "name": "ipython",
    "version": 3
   },
   "file_extension": ".py",
   "mimetype": "text/x-python",
   "name": "python",
   "nbconvert_exporter": "python",
   "pygments_lexer": "ipython3",
   "version": "3.6.5"
  }
 },
 "nbformat": 4,
 "nbformat_minor": 2
}
